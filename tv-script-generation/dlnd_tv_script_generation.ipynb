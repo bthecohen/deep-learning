{
 "cells": [
  {
   "cell_type": "markdown",
   "metadata": {},
   "source": [
    "# TV Script Generation\n",
    "In this project, you'll generate your own [Simpsons](https://en.wikipedia.org/wiki/The_Simpsons) TV scripts using RNNs.  You'll be using part of the [Simpsons dataset](https://www.kaggle.com/wcukierski/the-simpsons-by-the-data) of scripts from 27 seasons.  The Neural Network you'll build will generate a new TV script for a scene at [Moe's Tavern](https://simpsonswiki.com/wiki/Moe's_Tavern).\n",
    "## Get the Data\n",
    "The data is already provided for you.  You'll be using a subset of the original dataset.  It consists of only the scenes in Moe's Tavern.  This doesn't include other versions of the tavern, like \"Moe's Cavern\", \"Flaming Moe's\", \"Uncle Moe's Family Feed-Bag\", etc.."
   ]
  },
  {
   "cell_type": "code",
   "execution_count": 1,
   "metadata": {
    "collapsed": true
   },
   "outputs": [],
   "source": [
    "\"\"\"\n",
    "DON'T MODIFY ANYTHING IN THIS CELL\n",
    "\"\"\"\n",
    "import helper\n",
    "\n",
    "data_dir = './data/simpsons/moes_tavern_lines.txt'\n",
    "text = helper.load_data(data_dir)\n",
    "# Ignore notice, since we don't use it for analysing the data\n",
    "text = text[81:]"
   ]
  },
  {
   "cell_type": "markdown",
   "metadata": {},
   "source": [
    "## Explore the Data\n",
    "Play around with `view_sentence_range` to view different parts of the data."
   ]
  },
  {
   "cell_type": "code",
   "execution_count": 2,
   "metadata": {},
   "outputs": [
    {
     "name": "stdout",
     "output_type": "stream",
     "text": [
      "Dataset Stats\n",
      "Roughly the number of unique words: 11492\n",
      "Number of scenes: 262\n",
      "Average number of sentences in each scene: 15.248091603053435\n",
      "Number of lines: 4257\n",
      "Average number of words in each line: 11.50434578341555\n",
      "\n",
      "The sentences 0 to 10:\n",
      "Moe_Szyslak: (INTO PHONE) Moe's Tavern. Where the elite meet to drink.\n",
      "Bart_Simpson: Eh, yeah, hello, is Mike there? Last name, Rotch.\n",
      "Moe_Szyslak: (INTO PHONE) Hold on, I'll check. (TO BARFLIES) Mike Rotch. Mike Rotch. Hey, has anybody seen Mike Rotch, lately?\n",
      "Moe_Szyslak: (INTO PHONE) Listen you little puke. One of these days I'm gonna catch you, and I'm gonna carve my name on your back with an ice pick.\n",
      "Moe_Szyslak: What's the matter Homer? You're not your normal effervescent self.\n",
      "Homer_Simpson: I got my problems, Moe. Give me another one.\n",
      "Moe_Szyslak: Homer, hey, you should not drink to forget your problems.\n",
      "Barney_Gumble: Yeah, you should only drink to enhance your social skills.\n",
      "\n",
      "\n"
     ]
    }
   ],
   "source": [
    "view_sentence_range = (0, 10)\n",
    "\n",
    "\"\"\"\n",
    "DON'T MODIFY ANYTHING IN THIS CELL\n",
    "\"\"\"\n",
    "import numpy as np\n",
    "\n",
    "print('Dataset Stats')\n",
    "print('Roughly the number of unique words: {}'.format(len({word: None for word in text.split()})))\n",
    "scenes = text.split('\\n\\n')\n",
    "print('Number of scenes: {}'.format(len(scenes)))\n",
    "sentence_count_scene = [scene.count('\\n') for scene in scenes]\n",
    "print('Average number of sentences in each scene: {}'.format(np.average(sentence_count_scene)))\n",
    "\n",
    "sentences = [sentence for scene in scenes for sentence in scene.split('\\n')]\n",
    "print('Number of lines: {}'.format(len(sentences)))\n",
    "word_count_sentence = [len(sentence.split()) for sentence in sentences]\n",
    "print('Average number of words in each line: {}'.format(np.average(word_count_sentence)))\n",
    "\n",
    "print()\n",
    "print('The sentences {} to {}:'.format(*view_sentence_range))\n",
    "print('\\n'.join(text.split('\\n')[view_sentence_range[0]:view_sentence_range[1]]))"
   ]
  },
  {
   "cell_type": "markdown",
   "metadata": {},
   "source": [
    "## Implement Preprocessing Functions\n",
    "The first thing to do to any dataset is preprocessing.  Implement the following preprocessing functions below:\n",
    "- Lookup Table\n",
    "- Tokenize Punctuation\n",
    "\n",
    "### Lookup Table\n",
    "To create a word embedding, you first need to transform the words to ids.  In this function, create two dictionaries:\n",
    "- Dictionary to go from the words to an id, we'll call `vocab_to_int`\n",
    "- Dictionary to go from the id to word, we'll call `int_to_vocab`\n",
    "\n",
    "Return these dictionaries in the following tuple `(vocab_to_int, int_to_vocab)`"
   ]
  },
  {
   "cell_type": "code",
   "execution_count": 3,
   "metadata": {},
   "outputs": [
    {
     "name": "stdout",
     "output_type": "stream",
     "text": [
      "Tests Passed\n"
     ]
    }
   ],
   "source": [
    "import numpy as np\n",
    "import problem_unittests as tests\n",
    "\n",
    "def create_lookup_tables(text):\n",
    "    \"\"\"\n",
    "    Create lookup tables for vocabulary\n",
    "    :param text: The text of tv scripts split into words\n",
    "    :return: A tuple of dicts (vocab_to_int, int_to_vocab)\n",
    "    \"\"\"\n",
    "    # TODO: Implement Function\n",
    "    vocab_to_int = {\n",
    "        word: i\n",
    "        for i, word in enumerate(set(text))\n",
    "    }\n",
    "    \n",
    "    int_to_vocab = {v: k for k, v in vocab_to_int.items()}\n",
    "    return vocab_to_int, int_to_vocab\n",
    "\n",
    "\n",
    "\"\"\"\n",
    "DON'T MODIFY ANYTHING IN THIS CELL THAT IS BELOW THIS LINE\n",
    "\"\"\"\n",
    "tests.test_create_lookup_tables(create_lookup_tables)"
   ]
  },
  {
   "cell_type": "markdown",
   "metadata": {},
   "source": [
    "### Tokenize Punctuation\n",
    "We'll be splitting the script into a word array using spaces as delimiters.  However, punctuations like periods and exclamation marks make it hard for the neural network to distinguish between the word \"bye\" and \"bye!\".\n",
    "\n",
    "Implement the function `token_lookup` to return a dict that will be used to tokenize symbols like \"!\" into \"||Exclamation_Mark||\".  Create a dictionary for the following symbols where the symbol is the key and value is the token:\n",
    "- Period ( . )\n",
    "- Comma ( , )\n",
    "- Quotation Mark ( \" )\n",
    "- Semicolon ( ; )\n",
    "- Exclamation mark ( ! )\n",
    "- Question mark ( ? )\n",
    "- Left Parentheses ( ( )\n",
    "- Right Parentheses ( ) )\n",
    "- Dash ( -- )\n",
    "- Return ( \\n )\n",
    "\n",
    "This dictionary will be used to token the symbols and add the delimiter (space) around it.  This separates the symbols as it's own word, making it easier for the neural network to predict on the next word. Make sure you don't use a token that could be confused as a word. Instead of using the token \"dash\", try using something like \"||dash||\"."
   ]
  },
  {
   "cell_type": "code",
   "execution_count": 4,
   "metadata": {},
   "outputs": [
    {
     "name": "stdout",
     "output_type": "stream",
     "text": [
      "Tests Passed\n"
     ]
    }
   ],
   "source": [
    "def token_lookup():\n",
    "    \"\"\"\n",
    "    Generate a dict to turn punctuation into a token.\n",
    "    :return: Tokenize dictionary where the key is the punctuation and the value is the token\n",
    "    \"\"\"\n",
    "    # TODO: Implement Function\n",
    "    return {\n",
    "        '.': '||period||',\n",
    "        ',': '||comma||',\n",
    "        '\"': '||quotation||',\n",
    "        ';': '||semicolon||',\n",
    "        '!': '||exclamation_mark||',\n",
    "        '?': '||question_mark||',\n",
    "        '(': '||left_paren||',\n",
    "        ')': '||right_paren||',\n",
    "        '--': '||dash||',\n",
    "        '\\n': '||newline||',\n",
    "    }\n",
    "\n",
    "\"\"\"\n",
    "DON'T MODIFY ANYTHING IN THIS CELL THAT IS BELOW THIS LINE\n",
    "\"\"\"\n",
    "tests.test_tokenize(token_lookup)"
   ]
  },
  {
   "cell_type": "markdown",
   "metadata": {},
   "source": [
    "## Preprocess all the data and save it\n",
    "Running the code cell below will preprocess all the data and save it to file."
   ]
  },
  {
   "cell_type": "code",
   "execution_count": 5,
   "metadata": {
    "collapsed": true
   },
   "outputs": [],
   "source": [
    "\"\"\"\n",
    "DON'T MODIFY ANYTHING IN THIS CELL\n",
    "\"\"\"\n",
    "# Preprocess Training, Validation, and Testing Data\n",
    "helper.preprocess_and_save_data(data_dir, token_lookup, create_lookup_tables)"
   ]
  },
  {
   "cell_type": "markdown",
   "metadata": {},
   "source": [
    "# Check Point\n",
    "This is your first checkpoint. If you ever decide to come back to this notebook or have to restart the notebook, you can start from here. The preprocessed data has been saved to disk."
   ]
  },
  {
   "cell_type": "code",
   "execution_count": 6,
   "metadata": {
    "collapsed": true
   },
   "outputs": [],
   "source": [
    "\"\"\"\n",
    "DON'T MODIFY ANYTHING IN THIS CELL\n",
    "\"\"\"\n",
    "import helper\n",
    "import numpy as np\n",
    "import problem_unittests as tests\n",
    "\n",
    "int_text, vocab_to_int, int_to_vocab, token_dict = helper.load_preprocess()"
   ]
  },
  {
   "cell_type": "markdown",
   "metadata": {},
   "source": [
    "## Build the Neural Network\n",
    "You'll build the components necessary to build a RNN by implementing the following functions below:\n",
    "- get_inputs\n",
    "- get_init_cell\n",
    "- get_embed\n",
    "- build_rnn\n",
    "- build_nn\n",
    "- get_batches\n",
    "\n",
    "### Check the Version of TensorFlow and Access to GPU"
   ]
  },
  {
   "cell_type": "code",
   "execution_count": 7,
   "metadata": {},
   "outputs": [
    {
     "name": "stdout",
     "output_type": "stream",
     "text": [
      "TensorFlow Version: 1.1.0\n",
      "Default GPU Device: /gpu:0\n"
     ]
    }
   ],
   "source": [
    "\"\"\"\n",
    "DON'T MODIFY ANYTHING IN THIS CELL\n",
    "\"\"\"\n",
    "from distutils.version import LooseVersion\n",
    "import warnings\n",
    "import tensorflow as tf\n",
    "\n",
    "# Check TensorFlow Version\n",
    "assert LooseVersion(tf.__version__) >= LooseVersion('1.0'), 'Please use TensorFlow version 1.0 or newer'\n",
    "print('TensorFlow Version: {}'.format(tf.__version__))\n",
    "\n",
    "# Check for a GPU\n",
    "if not tf.test.gpu_device_name():\n",
    "    warnings.warn('No GPU found. Please use a GPU to train your neural network.')\n",
    "else:\n",
    "    print('Default GPU Device: {}'.format(tf.test.gpu_device_name()))"
   ]
  },
  {
   "cell_type": "markdown",
   "metadata": {},
   "source": [
    "### Input\n",
    "Implement the `get_inputs()` function to create TF Placeholders for the Neural Network.  It should create the following placeholders:\n",
    "- Input text placeholder named \"input\" using the [TF Placeholder](https://www.tensorflow.org/api_docs/python/tf/placeholder) `name` parameter.\n",
    "- Targets placeholder\n",
    "- Learning Rate placeholder\n",
    "\n",
    "Return the placeholders in the following tuple `(Input, Targets, LearningRate)`"
   ]
  },
  {
   "cell_type": "code",
   "execution_count": 8,
   "metadata": {},
   "outputs": [
    {
     "name": "stdout",
     "output_type": "stream",
     "text": [
      "Tests Passed\n"
     ]
    }
   ],
   "source": [
    "def get_inputs():\n",
    "    \"\"\"\n",
    "    Create TF Placeholders for input, targets, and learning rate.\n",
    "    :return: Tuple (input, targets, learning rate)\n",
    "    \"\"\"\n",
    "    return (\n",
    "        tf.placeholder(tf.int32, (None, None), name='input'),\n",
    "        tf.placeholder(tf.int32, (None, None), name='targets'), \n",
    "        tf.placeholder(tf.float32, (), name='lr')\n",
    "    )\n",
    "\n",
    "\n",
    "\"\"\"\n",
    "DON'T MODIFY ANYTHING IN THIS CELL THAT IS BELOW THIS LINE\n",
    "\"\"\"\n",
    "tests.test_get_inputs(get_inputs)"
   ]
  },
  {
   "cell_type": "markdown",
   "metadata": {},
   "source": [
    "### Build RNN Cell and Initialize\n",
    "Stack one or more [`BasicLSTMCells`](https://www.tensorflow.org/api_docs/python/tf/contrib/rnn/BasicLSTMCell) in a [`MultiRNNCell`](https://www.tensorflow.org/api_docs/python/tf/contrib/rnn/MultiRNNCell).\n",
    "- The Rnn size should be set using `rnn_size`\n",
    "- Initalize Cell State using the MultiRNNCell's [`zero_state()`](https://www.tensorflow.org/api_docs/python/tf/contrib/rnn/MultiRNNCell#zero_state) function\n",
    "    - Apply the name \"initial_state\" to the initial state using [`tf.identity()`](https://www.tensorflow.org/api_docs/python/tf/identity)\n",
    "\n",
    "Return the cell and initial state in the following tuple `(Cell, InitialState)`"
   ]
  },
  {
   "cell_type": "code",
   "execution_count": 9,
   "metadata": {},
   "outputs": [
    {
     "name": "stdout",
     "output_type": "stream",
     "text": [
      "Tests Passed\n"
     ]
    }
   ],
   "source": [
    "def get_init_cell(batch_size, rnn_size):\n",
    "    \"\"\"\n",
    "    Create an RNN Cell and initialize it.\n",
    "    :param batch_size: Size of batches\n",
    "    :param rnn_size: Size of RNNs\n",
    "    :return: Tuple (cell, initialize state)\n",
    "    \"\"\"\n",
    "    cell1 = tf.contrib.rnn.BasicLSTMCell(rnn_size)\n",
    "    cell2 = tf.contrib.rnn.BasicLSTMCell(rnn_size)\n",
    "    stack = tf.contrib.rnn.MultiRNNCell((cell1, cell2))\n",
    "    state = tf.identity(stack.zero_state(batch_size, tf.float32), name='initial_state')\n",
    "    \n",
    "    return stack, state\n",
    "\n",
    "\n",
    "\"\"\"\n",
    "DON'T MODIFY ANYTHING IN THIS CELL THAT IS BELOW THIS LINE\n",
    "\"\"\"\n",
    "tests.test_get_init_cell(get_init_cell)"
   ]
  },
  {
   "cell_type": "markdown",
   "metadata": {},
   "source": [
    "### Word Embedding\n",
    "Apply embedding to `input_data` using TensorFlow.  Return the embedded sequence."
   ]
  },
  {
   "cell_type": "code",
   "execution_count": 10,
   "metadata": {},
   "outputs": [
    {
     "name": "stdout",
     "output_type": "stream",
     "text": [
      "Tests Passed\n"
     ]
    }
   ],
   "source": [
    "def get_embed(input_data, vocab_size, embed_dim):\n",
    "    \"\"\"\n",
    "    Create embedding for <input_data>.\n",
    "    :param input_data: TF placeholder for text input.\n",
    "    :param vocab_size: Number of words in vocabulary.\n",
    "    :param embed_dim: Number of embedding dimensions\n",
    "    :return: Embedded input.\n",
    "    \"\"\"\n",
    "    # TODO: Implement Function\n",
    "    return tf.nn.embedding_lookup(\n",
    "        tf.Variable(tf.truncated_normal((vocab_size, embed_dim), stddev=0.1)),\n",
    "        input_data,\n",
    "        name='embedding'\n",
    "    )\n",
    "\n",
    "\n",
    "\"\"\"\n",
    "DON'T MODIFY ANYTHING IN THIS CELL THAT IS BELOW THIS LINE\n",
    "\"\"\"\n",
    "tests.test_get_embed(get_embed)"
   ]
  },
  {
   "cell_type": "markdown",
   "metadata": {},
   "source": [
    "### Build RNN\n",
    "You created a RNN Cell in the `get_init_cell()` function.  Time to use the cell to create a RNN.\n",
    "- Build the RNN using the [`tf.nn.dynamic_rnn()`](https://www.tensorflow.org/api_docs/python/tf/nn/dynamic_rnn)\n",
    " - Apply the name \"final_state\" to the final state using [`tf.identity()`](https://www.tensorflow.org/api_docs/python/tf/identity)\n",
    "\n",
    "Return the outputs and final_state state in the following tuple `(Outputs, FinalState)` "
   ]
  },
  {
   "cell_type": "code",
   "execution_count": 11,
   "metadata": {},
   "outputs": [
    {
     "name": "stdout",
     "output_type": "stream",
     "text": [
      "Tests Passed\n"
     ]
    }
   ],
   "source": [
    "def build_rnn(cell, inputs):\n",
    "    \"\"\"\n",
    "    Create a RNN using a RNN Cell\n",
    "    :param cell: RNN Cell\n",
    "    :param inputs: Input text data\n",
    "    :return: Tuple (Outputs, Final State)\n",
    "    \"\"\"\n",
    "    outputs, state = tf.nn.dynamic_rnn(cell, inputs, dtype=tf.float32)\n",
    "    return outputs, tf.identity(state, name='final_state')\n",
    "\n",
    "\n",
    "\"\"\"\n",
    "DON'T MODIFY ANYTHING IN THIS CELL THAT IS BELOW THIS LINE\n",
    "\"\"\"\n",
    "tests.test_build_rnn(build_rnn)"
   ]
  },
  {
   "cell_type": "markdown",
   "metadata": {},
   "source": [
    "### Build the Neural Network\n",
    "Apply the functions you implemented above to:\n",
    "- Apply embedding to `input_data` using your `get_embed(input_data, vocab_size, embed_dim)` function.\n",
    "- Build RNN using `cell` and your `build_rnn(cell, inputs)` function.\n",
    "- Apply a fully connected layer with a linear activation and `vocab_size` as the number of outputs.\n",
    "\n",
    "Return the logits and final state in the following tuple (Logits, FinalState) "
   ]
  },
  {
   "cell_type": "code",
   "execution_count": 12,
   "metadata": {
    "scrolled": false
   },
   "outputs": [
    {
     "name": "stdout",
     "output_type": "stream",
     "text": [
      "Tests Passed\n"
     ]
    }
   ],
   "source": [
    "def build_nn(cell, rnn_size, input_data, vocab_size, embed_dim):\n",
    "    \"\"\"\n",
    "    Build part of the neural network\n",
    "    :param cell: RNN cell\n",
    "    :param rnn_size: Size of rnns\n",
    "    :param input_data: Input data\n",
    "    :param vocab_size: Vocabulary size\n",
    "    :param embed_dim: Number of embedding dimensions\n",
    "    :return: Tuple (Logits, FinalState)\n",
    "    \"\"\"\n",
    "    embedding = get_embed(input_data, vocab_size, embed_dim)\n",
    "    rnn_outputs, state = build_rnn(cell, embedding)\n",
    "    logits = tf.contrib.layers.fully_connected(rnn_outputs, vocab_size, activation_fn=None)\n",
    "    return logits, state\n",
    "\n",
    "\n",
    "\"\"\"\n",
    "DON'T MODIFY ANYTHING IN THIS CELL THAT IS BELOW THIS LINE\n",
    "\"\"\"\n",
    "tests.test_build_nn(build_nn)"
   ]
  },
  {
   "cell_type": "markdown",
   "metadata": {},
   "source": [
    "### Batches\n",
    "Implement `get_batches` to create batches of input and targets using `int_text`.  The batches should be a Numpy array with the shape `(number of batches, 2, batch size, sequence length)`. Each batch contains two elements:\n",
    "- The first element is a single batch of **input** with the shape `[batch size, sequence length]`\n",
    "- The second element is a single batch of **targets** with the shape `[batch size, sequence length]`\n",
    "\n",
    "If you can't fill the last batch with enough data, drop the last batch.\n",
    "\n",
    "For exmple, `get_batches([1, 2, 3, 4, 5, 6, 7, 8, 9, 10, 11, 12, 13, 14, 15, 16, 17, 18, 19, 20], 3, 2)` would return a Numpy array of the following:\n",
    "```\n",
    "[\n",
    "  # First Batch\n",
    "  [\n",
    "    # Batch of Input\n",
    "    [[ 1  2], [ 7  8], [13 14]]\n",
    "    # Batch of targets\n",
    "    [[ 2  3], [ 8  9], [14 15]]\n",
    "  ]\n",
    "\n",
    "  # Second Batch\n",
    "  [\n",
    "    # Batch of Input\n",
    "    [[ 3  4], [ 9 10], [15 16]]\n",
    "    # Batch of targets\n",
    "    [[ 4  5], [10 11], [16 17]]\n",
    "  ]\n",
    "\n",
    "  # Third Batch\n",
    "  [\n",
    "    # Batch of Input\n",
    "    [[ 5  6], [11 12], [17 18]]\n",
    "    # Batch of targets\n",
    "    [[ 6  7], [12 13], [18  1]]\n",
    "  ]\n",
    "]\n",
    "```\n",
    "\n",
    "Notice that the last target value in the last batch is the first input value of the first batch. In this case, `1`. This is a common technique used when creating sequence batches, although it is rather unintuitive."
   ]
  },
  {
   "cell_type": "code",
   "execution_count": 13,
   "metadata": {
    "scrolled": false
   },
   "outputs": [
    {
     "name": "stdout",
     "output_type": "stream",
     "text": [
      "Tests Passed\n"
     ]
    }
   ],
   "source": [
    "def get_batches(int_text, batch_size, seq_length):\n",
    "    \"\"\"\n",
    "    Return batches of input and target\n",
    "    :param int_text: Text with the words replaced by their ids\n",
    "    :param batch_size: The size of batch\n",
    "    :param seq_length: The length of sequence\n",
    "    :return: Batches as a Numpy array\n",
    "    \"\"\"\n",
    "    # First, stack words and targets\n",
    "    words = np.array(int_text)\n",
    "    targets = np.take(words, np.arange(1, len(words) + 1), mode='wrap')\n",
    "    data = np.stack((words, targets))\n",
    "    \n",
    "    words_per_batch = batch_size * seq_length\n",
    "    n_batches = len(words) // words_per_batch\n",
    "    batches = np.zeros((n_batches, 2, batch_size, seq_length), dtype=int)\n",
    "    \n",
    "    for i in range(batch_size):\n",
    "        for j in range(n_batches):\n",
    "            start = i * n_batches * seq_length + j * seq_length\n",
    "            batches[j, :, i, :] = data[:, start:start + seq_length]\n",
    "            \n",
    "    batches[-1, -1, -1, -1] = batches[0, 0, 0, 0]\n",
    "    return batches\n",
    "    \n",
    "\n",
    "\n",
    "\"\"\"\n",
    "DON'T MODIFY ANYTHING IN THIS CELL THAT IS BELOW THIS LINE\n",
    "\"\"\"\n",
    "tests.test_get_batches(get_batches)"
   ]
  },
  {
   "cell_type": "markdown",
   "metadata": {},
   "source": [
    "## Neural Network Training\n",
    "### Hyperparameters\n",
    "Tune the following parameters:\n",
    "\n",
    "- Set `num_epochs` to the number of epochs.\n",
    "- Set `batch_size` to the batch size.\n",
    "- Set `rnn_size` to the size of the RNNs.\n",
    "- Set `embed_dim` to the size of the embedding.\n",
    "- Set `seq_length` to the length of sequence.\n",
    "- Set `learning_rate` to the learning rate.\n",
    "- Set `show_every_n_batches` to the number of batches the neural network should print progress."
   ]
  },
  {
   "cell_type": "code",
   "execution_count": 32,
   "metadata": {
    "collapsed": true
   },
   "outputs": [],
   "source": [
    "# Number of Epochs\n",
    "num_epochs = 100\n",
    "# Batch Size\n",
    "batch_size = 20\n",
    "# RNN Size\n",
    "rnn_size = 128\n",
    "# Embedding Dimension Size\n",
    "embed_dim = 300\n",
    "# Sequence Length\n",
    "seq_length = 100\n",
    "# Learning Rate\n",
    "learning_rate = 0.01\n",
    "# Show stats for every n number of batches\n",
    "show_every_n_batches = 10\n",
    "\n",
    "\"\"\"\n",
    "DON'T MODIFY ANYTHING IN THIS CELL THAT IS BELOW THIS LINE\n",
    "\"\"\"\n",
    "save_dir = '/output'"
   ]
  },
  {
   "cell_type": "markdown",
   "metadata": {},
   "source": [
    "### Build the Graph\n",
    "Build the graph using the neural network you implemented."
   ]
  },
  {
   "cell_type": "code",
   "execution_count": 30,
   "metadata": {
    "collapsed": true
   },
   "outputs": [],
   "source": [
    "\"\"\"\n",
    "DON'T MODIFY ANYTHING IN THIS CELL\n",
    "\"\"\"\n",
    "from tensorflow.contrib import seq2seq\n",
    "\n",
    "train_graph = tf.Graph()\n",
    "with train_graph.as_default():\n",
    "    vocab_size = len(int_to_vocab)\n",
    "    input_text, targets, lr = get_inputs()\n",
    "    input_data_shape = tf.shape(input_text)\n",
    "    cell, initial_state = get_init_cell(input_data_shape[0], rnn_size)\n",
    "    logits, final_state = build_nn(cell, rnn_size, input_text, vocab_size, embed_dim)\n",
    "\n",
    "    # Probabilities for generating words\n",
    "    probs = tf.nn.softmax(logits, name='probs')\n",
    "\n",
    "    # Loss function\n",
    "    cost = seq2seq.sequence_loss(\n",
    "        logits,\n",
    "        targets,\n",
    "        tf.ones([input_data_shape[0], input_data_shape[1]]))\n",
    "\n",
    "    # Optimizer\n",
    "    optimizer = tf.train.AdamOptimizer(lr)\n",
    "\n",
    "    # Gradient Clipping\n",
    "    gradients = optimizer.compute_gradients(cost)\n",
    "    capped_gradients = [(tf.clip_by_value(grad, -1., 1.), var) for grad, var in gradients if grad is not None]\n",
    "    train_op = optimizer.apply_gradients(capped_gradients)"
   ]
  },
  {
   "cell_type": "markdown",
   "metadata": {},
   "source": [
    "## Train\n",
    "Train the neural network on the preprocessed data.  If you have a hard time getting a good loss, check the [forums](https://discussions.udacity.com/) to see if anyone is having the same problem."
   ]
  },
  {
   "cell_type": "code",
   "execution_count": 33,
   "metadata": {
    "scrolled": true
   },
   "outputs": [
    {
     "name": "stdout",
     "output_type": "stream",
     "text": [
      "Epoch   0 Batch    0/27   train_loss = 8.822\n",
      "Epoch   0 Batch   20/27   train_loss = 6.631\n",
      "Epoch   1 Batch   13/27   train_loss = 6.054\n",
      "Epoch   2 Batch    6/27   train_loss = 6.164\n",
      "Epoch   2 Batch   26/27   train_loss = 6.101\n",
      "Epoch   3 Batch   19/27   train_loss = 6.069\n",
      "Epoch   4 Batch   12/27   train_loss = 6.012\n",
      "Epoch   5 Batch    5/27   train_loss = 5.723\n",
      "Epoch   5 Batch   25/27   train_loss = 5.788\n",
      "Epoch   6 Batch   18/27   train_loss = 5.647\n",
      "Epoch   7 Batch   11/27   train_loss = 5.397\n",
      "Epoch   8 Batch    4/27   train_loss = 5.101\n",
      "Epoch   8 Batch   24/27   train_loss = 4.874\n",
      "Epoch   9 Batch   17/27   train_loss = 4.732\n",
      "Epoch  10 Batch   10/27   train_loss = 4.889\n",
      "Epoch  11 Batch    3/27   train_loss = 4.518\n",
      "Epoch  11 Batch   23/27   train_loss = 4.460\n",
      "Epoch  12 Batch   16/27   train_loss = 4.554\n",
      "Epoch  13 Batch    9/27   train_loss = 4.373\n",
      "Epoch  14 Batch    2/27   train_loss = 4.383\n",
      "Epoch  14 Batch   22/27   train_loss = 4.373\n",
      "Epoch  15 Batch   15/27   train_loss = 4.174\n",
      "Epoch  16 Batch    8/27   train_loss = 4.190\n",
      "Epoch  17 Batch    1/27   train_loss = 4.126\n",
      "Epoch  17 Batch   21/27   train_loss = 4.042\n",
      "Epoch  18 Batch   14/27   train_loss = 3.959\n",
      "Epoch  19 Batch    7/27   train_loss = 4.087\n",
      "Epoch  20 Batch    0/27   train_loss = 3.963\n",
      "Epoch  20 Batch   20/27   train_loss = 3.781\n",
      "Epoch  21 Batch   13/27   train_loss = 3.726\n",
      "Epoch  22 Batch    6/27   train_loss = 3.757\n",
      "Epoch  22 Batch   26/27   train_loss = 3.635\n",
      "Epoch  23 Batch   19/27   train_loss = 3.651\n",
      "Epoch  24 Batch   12/27   train_loss = 3.610\n",
      "Epoch  25 Batch    5/27   train_loss = 3.511\n",
      "Epoch  25 Batch   25/27   train_loss = 3.523\n",
      "Epoch  26 Batch   18/27   train_loss = 3.377\n",
      "Epoch  27 Batch   11/27   train_loss = 3.423\n",
      "Epoch  28 Batch    4/27   train_loss = 3.342\n",
      "Epoch  28 Batch   24/27   train_loss = 3.226\n",
      "Epoch  29 Batch   17/27   train_loss = 3.189\n",
      "Epoch  30 Batch   10/27   train_loss = 3.291\n",
      "Epoch  31 Batch    3/27   train_loss = 3.222\n",
      "Epoch  31 Batch   23/27   train_loss = 2.999\n",
      "Epoch  32 Batch   16/27   train_loss = 3.008\n",
      "Epoch  33 Batch    9/27   train_loss = 3.026\n",
      "Epoch  34 Batch    2/27   train_loss = 3.027\n",
      "Epoch  34 Batch   22/27   train_loss = 2.825\n",
      "Epoch  35 Batch   15/27   train_loss = 2.917\n",
      "Epoch  36 Batch    8/27   train_loss = 2.796\n",
      "Epoch  37 Batch    1/27   train_loss = 2.843\n",
      "Epoch  37 Batch   21/27   train_loss = 2.713\n",
      "Epoch  38 Batch   14/27   train_loss = 2.741\n",
      "Epoch  39 Batch    7/27   train_loss = 2.704\n",
      "Epoch  40 Batch    0/27   train_loss = 2.608\n",
      "Epoch  40 Batch   20/27   train_loss = 2.550\n",
      "Epoch  41 Batch   13/27   train_loss = 2.538\n",
      "Epoch  42 Batch    6/27   train_loss = 2.558\n",
      "Epoch  42 Batch   26/27   train_loss = 2.490\n",
      "Epoch  43 Batch   19/27   train_loss = 2.544\n",
      "Epoch  44 Batch   12/27   train_loss = 2.504\n",
      "Epoch  45 Batch    5/27   train_loss = 2.474\n",
      "Epoch  45 Batch   25/27   train_loss = 2.421\n",
      "Epoch  46 Batch   18/27   train_loss = 2.290\n",
      "Epoch  47 Batch   11/27   train_loss = 2.267\n",
      "Epoch  48 Batch    4/27   train_loss = 2.213\n",
      "Epoch  48 Batch   24/27   train_loss = 2.194\n",
      "Epoch  49 Batch   17/27   train_loss = 2.162\n",
      "Epoch  50 Batch   10/27   train_loss = 2.144\n",
      "Epoch  51 Batch    3/27   train_loss = 2.242\n",
      "Epoch  51 Batch   23/27   train_loss = 2.085\n",
      "Epoch  52 Batch   16/27   train_loss = 2.006\n",
      "Epoch  53 Batch    9/27   train_loss = 2.175\n",
      "Epoch  54 Batch    2/27   train_loss = 2.175\n",
      "Epoch  54 Batch   22/27   train_loss = 1.902\n",
      "Epoch  55 Batch   15/27   train_loss = 2.073\n",
      "Epoch  56 Batch    8/27   train_loss = 1.913\n",
      "Epoch  57 Batch    1/27   train_loss = 2.001\n",
      "Epoch  57 Batch   21/27   train_loss = 1.844\n",
      "Epoch  58 Batch   14/27   train_loss = 1.911\n",
      "Epoch  59 Batch    7/27   train_loss = 1.832\n",
      "Epoch  60 Batch    0/27   train_loss = 1.748\n",
      "Epoch  60 Batch   20/27   train_loss = 1.701\n",
      "Epoch  61 Batch   13/27   train_loss = 1.797\n",
      "Epoch  62 Batch    6/27   train_loss = 1.751\n",
      "Epoch  62 Batch   26/27   train_loss = 1.803\n",
      "Epoch  63 Batch   19/27   train_loss = 1.821\n",
      "Epoch  64 Batch   12/27   train_loss = 1.797\n",
      "Epoch  65 Batch    5/27   train_loss = 1.849\n",
      "Epoch  65 Batch   25/27   train_loss = 1.742\n",
      "Epoch  66 Batch   18/27   train_loss = 1.712\n",
      "Epoch  67 Batch   11/27   train_loss = 1.652\n",
      "Epoch  68 Batch    4/27   train_loss = 1.659\n",
      "Epoch  68 Batch   24/27   train_loss = 1.560\n",
      "Epoch  69 Batch   17/27   train_loss = 1.629\n",
      "Epoch  70 Batch   10/27   train_loss = 1.545\n",
      "Epoch  71 Batch    3/27   train_loss = 1.721\n",
      "Epoch  71 Batch   23/27   train_loss = 1.575\n",
      "Epoch  72 Batch   16/27   train_loss = 1.503\n",
      "Epoch  73 Batch    9/27   train_loss = 1.533\n",
      "Epoch  74 Batch    2/27   train_loss = 1.559\n",
      "Epoch  74 Batch   22/27   train_loss = 1.389\n",
      "Epoch  75 Batch   15/27   train_loss = 1.614\n",
      "Epoch  76 Batch    8/27   train_loss = 1.479\n",
      "Epoch  77 Batch    1/27   train_loss = 1.591\n",
      "Epoch  77 Batch   21/27   train_loss = 1.461\n",
      "Epoch  78 Batch   14/27   train_loss = 1.564\n",
      "Epoch  79 Batch    7/27   train_loss = 1.435\n",
      "Epoch  80 Batch    0/27   train_loss = 1.357\n",
      "Epoch  80 Batch   20/27   train_loss = 1.440\n",
      "Epoch  81 Batch   13/27   train_loss = 1.411\n",
      "Epoch  82 Batch    6/27   train_loss = 1.458\n",
      "Epoch  82 Batch   26/27   train_loss = 1.482\n",
      "Epoch  83 Batch   19/27   train_loss = 1.543\n",
      "Epoch  84 Batch   12/27   train_loss = 1.561\n",
      "Epoch  85 Batch    5/27   train_loss = 1.549\n",
      "Epoch  85 Batch   25/27   train_loss = 1.518\n",
      "Epoch  86 Batch   18/27   train_loss = 1.438\n",
      "Epoch  87 Batch   11/27   train_loss = 1.432\n",
      "Epoch  88 Batch    4/27   train_loss = 1.369\n",
      "Epoch  88 Batch   24/27   train_loss = 1.326\n",
      "Epoch  89 Batch   17/27   train_loss = 1.368\n",
      "Epoch  90 Batch   10/27   train_loss = 1.266\n",
      "Epoch  91 Batch    3/27   train_loss = 1.381\n",
      "Epoch  91 Batch   23/27   train_loss = 1.363\n",
      "Epoch  92 Batch   16/27   train_loss = 1.212\n",
      "Epoch  93 Batch    9/27   train_loss = 1.297\n",
      "Epoch  94 Batch    2/27   train_loss = 1.269\n",
      "Epoch  94 Batch   22/27   train_loss = 1.192\n",
      "Epoch  95 Batch   15/27   train_loss = 1.423\n",
      "Epoch  96 Batch    8/27   train_loss = 1.272\n",
      "Epoch  97 Batch    1/27   train_loss = 1.377\n",
      "Epoch  97 Batch   21/27   train_loss = 1.299\n",
      "Epoch  98 Batch   14/27   train_loss = 1.340\n",
      "Epoch  99 Batch    7/27   train_loss = 1.243\n",
      "Epoch 100 Batch    0/27   train_loss = 1.176\n",
      "Epoch 100 Batch   20/27   train_loss = 1.181\n",
      "Epoch 101 Batch   13/27   train_loss = 1.208\n",
      "Epoch 102 Batch    6/27   train_loss = 1.139\n",
      "Epoch 102 Batch   26/27   train_loss = 1.280\n",
      "Epoch 103 Batch   19/27   train_loss = 1.203\n",
      "Epoch 104 Batch   12/27   train_loss = 1.249\n",
      "Epoch 105 Batch    5/27   train_loss = 1.213\n",
      "Epoch 105 Batch   25/27   train_loss = 1.202\n",
      "Epoch 106 Batch   18/27   train_loss = 1.163\n",
      "Epoch 107 Batch   11/27   train_loss = 1.128\n",
      "Epoch 108 Batch    4/27   train_loss = 1.136\n",
      "Epoch 108 Batch   24/27   train_loss = 1.062\n",
      "Epoch 109 Batch   17/27   train_loss = 1.139\n",
      "Epoch 110 Batch   10/27   train_loss = 1.037\n",
      "Epoch 111 Batch    3/27   train_loss = 1.183\n",
      "Epoch 111 Batch   23/27   train_loss = 1.160\n",
      "Epoch 112 Batch   16/27   train_loss = 1.056\n",
      "Epoch 113 Batch    9/27   train_loss = 1.027\n",
      "Epoch 114 Batch    2/27   train_loss = 1.114\n",
      "Epoch 114 Batch   22/27   train_loss = 0.966\n",
      "Epoch 115 Batch   15/27   train_loss = 1.171\n",
      "Epoch 116 Batch    8/27   train_loss = 1.039\n",
      "Epoch 117 Batch    1/27   train_loss = 1.132\n",
      "Epoch 117 Batch   21/27   train_loss = 1.026\n",
      "Epoch 118 Batch   14/27   train_loss = 1.110\n",
      "Epoch 119 Batch    7/27   train_loss = 0.975\n",
      "Epoch 120 Batch    0/27   train_loss = 1.009\n",
      "Epoch 120 Batch   20/27   train_loss = 1.034\n",
      "Epoch 121 Batch   13/27   train_loss = 0.990\n",
      "Epoch 122 Batch    6/27   train_loss = 1.027\n",
      "Epoch 122 Batch   26/27   train_loss = 1.066\n",
      "Epoch 123 Batch   19/27   train_loss = 1.076\n",
      "Epoch 124 Batch   12/27   train_loss = 1.047\n",
      "Epoch 125 Batch    5/27   train_loss = 1.082\n",
      "Epoch 125 Batch   25/27   train_loss = 1.003\n",
      "Epoch 126 Batch   18/27   train_loss = 1.035\n",
      "Epoch 127 Batch   11/27   train_loss = 0.929\n",
      "Epoch 128 Batch    4/27   train_loss = 0.977\n",
      "Epoch 128 Batch   24/27   train_loss = 0.932\n",
      "Epoch 129 Batch   17/27   train_loss = 0.931\n",
      "Epoch 130 Batch   10/27   train_loss = 0.849\n",
      "Epoch 131 Batch    3/27   train_loss = 1.010\n",
      "Epoch 131 Batch   23/27   train_loss = 0.984\n",
      "Epoch 132 Batch   16/27   train_loss = 0.845\n",
      "Epoch 133 Batch    9/27   train_loss = 0.931\n",
      "Epoch 134 Batch    2/27   train_loss = 0.887\n",
      "Epoch 134 Batch   22/27   train_loss = 0.830\n"
     ]
    },
    {
     "name": "stdout",
     "output_type": "stream",
     "text": [
      "Epoch 135 Batch   15/27   train_loss = 0.926\n",
      "Epoch 136 Batch    8/27   train_loss = 0.841\n",
      "Epoch 137 Batch    1/27   train_loss = 0.941\n",
      "Epoch 137 Batch   21/27   train_loss = 0.866\n",
      "Epoch 138 Batch   14/27   train_loss = 0.955\n",
      "Epoch 139 Batch    7/27   train_loss = 0.816\n",
      "Epoch 140 Batch    0/27   train_loss = 0.783\n",
      "Epoch 140 Batch   20/27   train_loss = 0.784\n",
      "Epoch 141 Batch   13/27   train_loss = 0.828\n",
      "Epoch 142 Batch    6/27   train_loss = 0.816\n",
      "Epoch 142 Batch   26/27   train_loss = 0.866\n",
      "Epoch 143 Batch   19/27   train_loss = 0.816\n",
      "Epoch 144 Batch   12/27   train_loss = 0.844\n",
      "Epoch 145 Batch    5/27   train_loss = 0.887\n",
      "Epoch 145 Batch   25/27   train_loss = 0.791\n",
      "Epoch 146 Batch   18/27   train_loss = 0.795\n",
      "Epoch 147 Batch   11/27   train_loss = 0.751\n",
      "Epoch 148 Batch    4/27   train_loss = 0.781\n",
      "Epoch 148 Batch   24/27   train_loss = 0.718\n",
      "Epoch 149 Batch   17/27   train_loss = 0.734\n",
      "Epoch 150 Batch   10/27   train_loss = 0.657\n",
      "Epoch 151 Batch    3/27   train_loss = 0.809\n",
      "Epoch 151 Batch   23/27   train_loss = 0.793\n",
      "Epoch 152 Batch   16/27   train_loss = 0.659\n",
      "Epoch 153 Batch    9/27   train_loss = 0.699\n",
      "Epoch 154 Batch    2/27   train_loss = 0.710\n",
      "Epoch 154 Batch   22/27   train_loss = 0.671\n",
      "Epoch 155 Batch   15/27   train_loss = 0.757\n",
      "Epoch 156 Batch    8/27   train_loss = 0.740\n",
      "Epoch 157 Batch    1/27   train_loss = 0.778\n",
      "Epoch 157 Batch   21/27   train_loss = 0.739\n",
      "Epoch 158 Batch   14/27   train_loss = 0.777\n",
      "Epoch 159 Batch    7/27   train_loss = 0.706\n",
      "Epoch 160 Batch    0/27   train_loss = 0.690\n",
      "Epoch 160 Batch   20/27   train_loss = 0.711\n",
      "Epoch 161 Batch   13/27   train_loss = 0.713\n",
      "Epoch 162 Batch    6/27   train_loss = 0.684\n",
      "Epoch 162 Batch   26/27   train_loss = 0.780\n",
      "Epoch 163 Batch   19/27   train_loss = 0.696\n",
      "Epoch 164 Batch   12/27   train_loss = 0.750\n",
      "Epoch 165 Batch    5/27   train_loss = 0.807\n",
      "Epoch 165 Batch   25/27   train_loss = 0.706\n",
      "Epoch 166 Batch   18/27   train_loss = 0.724\n",
      "Epoch 167 Batch   11/27   train_loss = 0.713\n",
      "Epoch 168 Batch    4/27   train_loss = 0.727\n",
      "Epoch 168 Batch   24/27   train_loss = 0.643\n",
      "Epoch 169 Batch   17/27   train_loss = 0.705\n",
      "Epoch 170 Batch   10/27   train_loss = 0.599\n",
      "Epoch 171 Batch    3/27   train_loss = 0.737\n",
      "Epoch 171 Batch   23/27   train_loss = 0.698\n",
      "Epoch 172 Batch   16/27   train_loss = 0.598\n",
      "Epoch 173 Batch    9/27   train_loss = 0.629\n",
      "Epoch 174 Batch    2/27   train_loss = 0.631\n",
      "Epoch 174 Batch   22/27   train_loss = 0.576\n",
      "Epoch 175 Batch   15/27   train_loss = 0.659\n",
      "Epoch 176 Batch    8/27   train_loss = 0.639\n",
      "Epoch 177 Batch    1/27   train_loss = 0.672\n",
      "Epoch 177 Batch   21/27   train_loss = 0.646\n",
      "Epoch 178 Batch   14/27   train_loss = 0.699\n",
      "Epoch 179 Batch    7/27   train_loss = 0.588\n",
      "Epoch 180 Batch    0/27   train_loss = 0.582\n",
      "Epoch 180 Batch   20/27   train_loss = 0.567\n",
      "Epoch 181 Batch   13/27   train_loss = 0.647\n",
      "Epoch 182 Batch    6/27   train_loss = 0.569\n",
      "Epoch 182 Batch   26/27   train_loss = 0.642\n",
      "Epoch 183 Batch   19/27   train_loss = 0.576\n",
      "Epoch 184 Batch   12/27   train_loss = 0.624\n",
      "Epoch 185 Batch    5/27   train_loss = 0.658\n",
      "Epoch 185 Batch   25/27   train_loss = 0.572\n",
      "Epoch 186 Batch   18/27   train_loss = 0.575\n",
      "Epoch 187 Batch   11/27   train_loss = 0.558\n",
      "Epoch 188 Batch    4/27   train_loss = 0.518\n",
      "Epoch 188 Batch   24/27   train_loss = 0.530\n",
      "Epoch 189 Batch   17/27   train_loss = 0.567\n",
      "Epoch 190 Batch   10/27   train_loss = 0.485\n",
      "Epoch 191 Batch    3/27   train_loss = 0.580\n",
      "Epoch 191 Batch   23/27   train_loss = 0.570\n",
      "Epoch 192 Batch   16/27   train_loss = 0.500\n",
      "Epoch 193 Batch    9/27   train_loss = 0.529\n",
      "Epoch 194 Batch    2/27   train_loss = 0.558\n",
      "Epoch 194 Batch   22/27   train_loss = 0.507\n",
      "Epoch 195 Batch   15/27   train_loss = 0.610\n",
      "Epoch 196 Batch    8/27   train_loss = 0.594\n",
      "Epoch 197 Batch    1/27   train_loss = 0.604\n",
      "Epoch 197 Batch   21/27   train_loss = 0.565\n",
      "Epoch 198 Batch   14/27   train_loss = 0.631\n",
      "Epoch 199 Batch    7/27   train_loss = 0.557\n",
      "Model Trained and Saved\n"
     ]
    }
   ],
   "source": [
    "\"\"\"\n",
    "DON'T MODIFY ANYTHING IN THIS CELL\n",
    "\"\"\"\n",
    "batches = get_batches(int_text, batch_size, seq_length)\n",
    "\n",
    "with tf.Session(graph=train_graph) as sess:\n",
    "    sess.run(tf.global_variables_initializer())\n",
    "\n",
    "    for epoch_i in range(num_epochs):\n",
    "        state = sess.run(initial_state, {input_text: batches[0][0]})\n",
    "\n",
    "        for batch_i, (x, y) in enumerate(batches):\n",
    "            feed = {\n",
    "                input_text: x,\n",
    "                targets: y,\n",
    "                initial_state: state,\n",
    "                lr: learning_rate}\n",
    "            train_loss, state, _ = sess.run([cost, final_state, train_op], feed)\n",
    "\n",
    "            # Show every <show_every_n_batches> batches\n",
    "            if (epoch_i * len(batches) + batch_i) % show_every_n_batches == 0:\n",
    "                print('Epoch {:>3} Batch {:>4}/{}   train_loss = {:.3f}'.format(\n",
    "                    epoch_i,\n",
    "                    batch_i,\n",
    "                    len(batches),\n",
    "                    train_loss))\n",
    "\n",
    "    # Save Model\n",
    "    saver = tf.train.Saver()\n",
    "    saver.save(sess, save_dir)\n",
    "    print('Model Trained and Saved')"
   ]
  },
  {
   "cell_type": "markdown",
   "metadata": {},
   "source": [
    "## Save Parameters\n",
    "Save `seq_length` and `save_dir` for generating a new TV script."
   ]
  },
  {
   "cell_type": "code",
   "execution_count": 34,
   "metadata": {
    "collapsed": true
   },
   "outputs": [],
   "source": [
    "\"\"\"\n",
    "DON'T MODIFY ANYTHING IN THIS CELL\n",
    "\"\"\"\n",
    "# Save parameters for checkpoint\n",
    "helper.save_params((seq_length, save_dir))"
   ]
  },
  {
   "cell_type": "markdown",
   "metadata": {},
   "source": [
    "# Checkpoint"
   ]
  },
  {
   "cell_type": "code",
   "execution_count": 35,
   "metadata": {
    "collapsed": true
   },
   "outputs": [],
   "source": [
    "\"\"\"\n",
    "DON'T MODIFY ANYTHING IN THIS CELL\n",
    "\"\"\"\n",
    "import tensorflow as tf\n",
    "import numpy as np\n",
    "import helper\n",
    "import problem_unittests as tests\n",
    "\n",
    "_, vocab_to_int, int_to_vocab, token_dict = helper.load_preprocess()\n",
    "seq_length, load_dir = helper.load_params()"
   ]
  },
  {
   "cell_type": "markdown",
   "metadata": {},
   "source": [
    "## Implement Generate Functions\n",
    "### Get Tensors\n",
    "Get tensors from `loaded_graph` using the function [`get_tensor_by_name()`](https://www.tensorflow.org/api_docs/python/tf/Graph#get_tensor_by_name).  Get the tensors using the following names:\n",
    "- \"input:0\"\n",
    "- \"initial_state:0\"\n",
    "- \"final_state:0\"\n",
    "- \"probs:0\"\n",
    "\n",
    "Return the tensors in the following tuple `(InputTensor, InitialStateTensor, FinalStateTensor, ProbsTensor)` "
   ]
  },
  {
   "cell_type": "code",
   "execution_count": 39,
   "metadata": {},
   "outputs": [
    {
     "name": "stdout",
     "output_type": "stream",
     "text": [
      "Tests Passed\n"
     ]
    }
   ],
   "source": [
    "def get_tensors(loaded_graph):\n",
    "    \"\"\"\n",
    "    Get input, initial state, final state, and probabilities tensor from <loaded_graph>\n",
    "    :param loaded_graph: TensorFlow graph loaded from file\n",
    "    :return: Tuple (InputTensor, InitialStateTensor, FinalStateTensor, ProbsTensor)\n",
    "    \"\"\"\n",
    "    # TODO: Implement Function\n",
    "    return (\n",
    "        loaded_graph.get_tensor_by_name(\"input:0\"),\n",
    "        loaded_graph.get_tensor_by_name(\"initial_state:0\"),\n",
    "        loaded_graph.get_tensor_by_name(\"final_state:0\"),\n",
    "        loaded_graph.get_tensor_by_name(\"probs:0\")\n",
    "    )\n",
    "\n",
    "\n",
    "\"\"\"\n",
    "DON'T MODIFY ANYTHING IN THIS CELL THAT IS BELOW THIS LINE\n",
    "\"\"\"\n",
    "tests.test_get_tensors(get_tensors)"
   ]
  },
  {
   "cell_type": "markdown",
   "metadata": {},
   "source": [
    "### Choose Word\n",
    "Implement the `pick_word()` function to select the next word using `probabilities`."
   ]
  },
  {
   "cell_type": "code",
   "execution_count": 45,
   "metadata": {},
   "outputs": [
    {
     "name": "stdout",
     "output_type": "stream",
     "text": [
      "Tests Passed\n"
     ]
    }
   ],
   "source": [
    "def sample_softmax(preds, temperature=1.0):\n",
    "    # taken from https://github.com/keras-team/keras/blob/master/examples/lstm_text_generation.py\n",
    "    # helper function to sample an index from a probability array\n",
    "    preds = preds.astype('float64')\n",
    "    preds = np.log(preds) / temperature\n",
    "    exp_preds = np.exp(preds)\n",
    "    preds = exp_preds / np.sum(exp_preds)\n",
    "    probas = np.random.multinomial(1, preds, 1)\n",
    "    return np.argmax(probas)\n",
    "\n",
    "def pick_word(probabilities, int_to_vocab):\n",
    "    \"\"\"\n",
    "    Pick the next word in the generated text\n",
    "    :param probabilities: Probabilites of the next word\n",
    "    :param int_to_vocab: Dictionary of word ids as the keys and words as the values\n",
    "    :return: String of the predicted word\n",
    "    \"\"\"\n",
    "    # TODO: Implement Function\n",
    "    return int_to_vocab[sample_softmax(probabilities)]\n",
    "\n",
    "\n",
    "\"\"\"\n",
    "DON'T MODIFY ANYTHING IN THIS CELL THAT IS BELOW THIS LINE\n",
    "\"\"\"\n",
    "tests.test_pick_word(pick_word)"
   ]
  },
  {
   "cell_type": "markdown",
   "metadata": {},
   "source": [
    "## Generate TV Script\n",
    "This will generate the TV script for you.  Set `gen_length` to the length of TV script you want to generate."
   ]
  },
  {
   "cell_type": "code",
   "execution_count": 47,
   "metadata": {},
   "outputs": [
    {
     "name": "stdout",
     "output_type": "stream",
     "text": [
      "INFO:tensorflow:Restoring parameters from /output\n"
     ]
    },
    {
     "name": "stderr",
     "output_type": "stream",
     "text": [
      "/usr/local/lib/python3.5/site-packages/ipykernel_launcher.py:5: RuntimeWarning: divide by zero encountered in log\n",
      "  \"\"\"\n"
     ]
    },
    {
     "name": "stdout",
     "output_type": "stream",
     "text": [
      "moe_szyslak: hey, i'm a good friend doing like a woman. carl, the whole drink is gonna go to hell.\n",
      "homer_simpson: oh, sure thing, mouse pad. have one about that appeals to the bike. one unlucky punch who wanted you thought when you made from walking by here.(gags, then: holds up finger) how stupid moe is lenny, how about you. thank you for asking. uh, i don't wanna talk to a drink?\n",
      "moe_szyslak: shut up and hand our family... how are you man? huh.(low baritone voice) oh yes, you can help... text message for i. m. a. wiener.(shows) sounds, sure, it is insured as your wife is gonna set off a floor!\n",
      "moe_szyslak: who wants to party? with how much air is in which that as my exact double.(business with his face, then sighs) it's all it!\n",
      "homer_simpson:(distraught) oh, i've got that black. / he says he difficult i have to tell you my keys on the air. in like the eyes!(laughs) you're okay great. i saw homer my disgraceful behavior my wife. i gotta work your hand to me.\n",
      "moe_szyslak: these your address wants an old situation than are an cheap, i'd like to do something incriminating(he takes out deeply) cesss. think that's really else. we've got a snake-handler\"(sniffs, had babies,\" good quickly which midnight.\" one plus you, now\" yea, and i ain't stand here--(sobs\" bar, friendly) but it makes you have...\n",
      "homer_simpson:(chuckles) hey, moe! i need your dad? when i was gorgeous look on this! i'm all the police department's moonlight charity cruise.\"(to oh) oh, sweet there? / etc.\n",
      "krusty_the_clown: and i'll give you one more secret ingredient space...(under phone) in my mouth so-- i'm exactly! stick a big girl!\n",
      "lisa_simpson: even good here, comin' through down there, homer. they're didn't you, kid!\n",
      "moe_szyslak: ah, the little cutie wants to do something cute last, but who was now?\n",
      "moe_szyslak: i got just the party for moe again.\n",
      "homer_simpson:(gasp of awe) dressing?\n",
      "moe_szyslak: aw, c'mon, what are you i'll have to wait for marge to have.\n",
      "moe_szyslak: before you didn't have to start over?\n",
      "moe_szyslak: but no-- i am happy here of my best friend's face, who's going to one before i happen.\n",
      "moe_szyslak: eh, you didn't.(philosophical)\"\n",
      "\n",
      "\n",
      "moe_szyslak: hey, come on, i knew that who things? am i right? i don't know how to be the ugliest man?\n",
      "teenage_barney: huh?(swooning) the hair...(quickly) hey, dad. hey, it's me! i floated up toward beer, she never told it to go on with my friend... so this looks drink we're new day the wife. i mean, hear ye, that all am i still got all for a drunk tank!\n",
      "moe_szyslak: he can't be so too place at?\n",
      "homer_simpson: don't tell you us a place like this?\n",
      "homer_simpson: sorry homer, i, i could have to play a pants, i'd like ourselves, or i'll make her two dozen roses. and i can't sell you. i did they love your dad around return-- seven, the rope broke? i been meanin' to be kept that right, my\" flaming moe\"... who said i'm talkin' about it.\n",
      "lisa_simpson: to either my problems with this!\n",
      "carl_carlson: ho, i rather provide so much better than you.\n",
      "betty:(sings) hot mamma, who was sleeping with top of the finest moe, but was dead, huh?... here's the expression? look so will you use every one!\n",
      "moe_szyslak: it goes moe's are it after it.\n",
      "moe_szyslak:(can't-believe-how-bald-he-is noise) dear lord on side: i'm buying the place stupid, some i have to go for it, i just ain't comfortable hanging around all to a lot of people bad-mouth you. what's it! / sad!(choking noises)\n",
      "lisa_simpson:(screams) the most awful thing who is now to us with my daughter!\n",
      "cletus_spuckler: i'm not lookin', i learned you.\n",
      "moe_szyslak: oh my god! santa brought me sitting here from. the dallas cowboys wins super bowl twenty-nine.\n",
      "homer_simpson:(to moe) aw, get off, homer. you got marge. i've got an anniversary coming and you all the first bowl?(dramatic) the tree is a thing it fears most: bar.\n",
      "homer_simpson: uh, do you think aerosmith will be deal?(beat) my comeback fight. you know, find it happy!(sighs)\n",
      "homer_simpson: please, i know what i laid out the truth? there's as you gonna do you work?\n",
      "homer_simpson: well, i'm already there?\n",
      "maya: uh-huh.\n",
      "homer_simpson: you nuclear workers have no idea how valuable you are. times for put the\n"
     ]
    }
   ],
   "source": [
    "gen_length = 1000\n",
    "# homer_simpson, moe_szyslak, or Barney_Gumble\n",
    "prime_word = 'moe_szyslak'\n",
    "\n",
    "\"\"\"\n",
    "DON'T MODIFY ANYTHING IN THIS CELL THAT IS BELOW THIS LINE\n",
    "\"\"\"\n",
    "loaded_graph = tf.Graph()\n",
    "with tf.Session(graph=loaded_graph) as sess:\n",
    "    # Load saved model\n",
    "    loader = tf.train.import_meta_graph(load_dir + '.meta')\n",
    "    loader.restore(sess, load_dir)\n",
    "\n",
    "    # Get Tensors from loaded model\n",
    "    input_text, initial_state, final_state, probs = get_tensors(loaded_graph)\n",
    "\n",
    "    # Sentences generation setup\n",
    "    gen_sentences = [prime_word + ':']\n",
    "    prev_state = sess.run(initial_state, {input_text: np.array([[1]])})\n",
    "\n",
    "    # Generate sentences\n",
    "    for n in range(gen_length):\n",
    "        # Dynamic Input\n",
    "        dyn_input = [[vocab_to_int[word] for word in gen_sentences[-seq_length:]]]\n",
    "        dyn_seq_length = len(dyn_input[0])\n",
    "\n",
    "        # Get Prediction\n",
    "        probabilities, prev_state = sess.run(\n",
    "            [probs, final_state],\n",
    "            {input_text: dyn_input, initial_state: prev_state})\n",
    "        \n",
    "        pred_word = pick_word(probabilities[dyn_seq_length-1], int_to_vocab)\n",
    "\n",
    "        gen_sentences.append(pred_word)\n",
    "    \n",
    "    # Remove tokens\n",
    "    tv_script = ' '.join(gen_sentences)\n",
    "    for key, token in token_dict.items():\n",
    "        ending = ' ' if key in ['\\n', '(', '\"'] else ''\n",
    "        tv_script = tv_script.replace(' ' + token.lower(), key)\n",
    "    tv_script = tv_script.replace('\\n ', '\\n')\n",
    "    tv_script = tv_script.replace('( ', '(')\n",
    "        \n",
    "    print(tv_script)"
   ]
  },
  {
   "cell_type": "markdown",
   "metadata": {},
   "source": [
    "# The TV Script is Nonsensical\n",
    "It's ok if the TV script doesn't make any sense.  We trained on less than a megabyte of text.  In order to get good results, you'll have to use a smaller vocabulary or get more data.  Luckly there's more data!  As we mentioned in the begging of this project, this is a subset of [another dataset](https://www.kaggle.com/wcukierski/the-simpsons-by-the-data).  We didn't have you train on all the data, because that would take too long.  However, you are free to train your neural network on all the data.  After you complete the project, of course.\n",
    "# Submitting This Project\n",
    "When submitting this project, make sure to run all the cells before saving the notebook. Save the notebook file as \"dlnd_tv_script_generation.ipynb\" and save it as a HTML file under \"File\" -> \"Download as\". Include the \"helper.py\" and \"problem_unittests.py\" files in your submission."
   ]
  }
 ],
 "metadata": {
  "kernelspec": {
   "display_name": "Python 3",
   "language": "python",
   "name": "python3"
  },
  "language_info": {
   "codemirror_mode": {
    "name": "ipython",
    "version": 3
   },
   "file_extension": ".py",
   "mimetype": "text/x-python",
   "name": "python",
   "nbconvert_exporter": "python",
   "pygments_lexer": "ipython3",
   "version": "3.5.3"
  },
  "widgets": {
   "state": {},
   "version": "1.1.2"
  }
 },
 "nbformat": 4,
 "nbformat_minor": 1
}
